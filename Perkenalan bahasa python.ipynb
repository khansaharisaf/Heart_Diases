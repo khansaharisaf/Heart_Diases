{
 "cells": [
  {
   "cell_type": "markdown",
   "id": "5b341f25",
   "metadata": {},
   "source": [
    "# Bagian Awal"
   ]
  },
  {
   "cell_type": "markdown",
   "id": "bbf14c80",
   "metadata": {},
   "source": [
    "<center> Bagian Pertama </center>\n",
    "<b> Ini Bold </b>\n",
    "<i> Italic </i>\n",
    "\n",
    "<h1> Bagian Awal </h1>"
   ]
  },
  {
   "cell_type": "markdown",
   "id": "e8c4dfe3",
   "metadata": {},
   "source": [
    "ini adalah contoh fungsi matematika: $$\\frac{1}{5}$$"
   ]
  },
  {
   "cell_type": "markdown",
   "id": "95a04620",
   "metadata": {},
   "source": [
    "ini adalah contoh fungsi <b> matematika <b>: $\\frac{1}{5}$"
   ]
  },
  {
   "cell_type": "markdown",
   "id": "da6a685b",
   "metadata": {},
   "source": [
    "# Operasi Matematika"
   ]
  },
  {
   "cell_type": "code",
   "execution_count": 4,
   "id": "5898976d",
   "metadata": {},
   "outputs": [
    {
     "data": {
      "text/plain": [
       "2"
      ]
     },
     "execution_count": 4,
     "metadata": {},
     "output_type": "execute_result"
    }
   ],
   "source": [
    "# penjumlahan matematika\n",
    "1+1"
   ]
  },
  {
   "cell_type": "code",
   "execution_count": 5,
   "id": "b024c341",
   "metadata": {},
   "outputs": [
    {
     "data": {
      "text/plain": [
       "1"
      ]
     },
     "execution_count": 5,
     "metadata": {},
     "output_type": "execute_result"
    }
   ],
   "source": [
    "# pengurangan\n",
    "3-1"
   ]
  },
  {
   "cell_type": "code",
   "execution_count": 6,
   "id": "4caaf7ab",
   "metadata": {},
   "outputs": [
    {
     "data": {
      "text/plain": [
       "1.6666666666666667"
      ]
     },
     "execution_count": 6,
     "metadata": {},
     "output_type": "execute_result"
    }
   ],
   "source": [
    "# pembagian\n",
    "5 / 3"
   ]
  },
  {
   "cell_type": "code",
   "execution_count": 7,
   "id": "b29b5d81",
   "metadata": {},
   "outputs": [
    {
     "data": {
      "text/plain": [
       "1"
      ]
     },
     "execution_count": 7,
     "metadata": {},
     "output_type": "execute_result"
    }
   ],
   "source": [
    "# pembagian mengahsilkan bilangan bulat\n",
    "5 // 3"
   ]
  },
  {
   "cell_type": "code",
   "execution_count": 8,
   "id": "04c11c89",
   "metadata": {},
   "outputs": [
    {
     "data": {
      "text/plain": [
       "20"
      ]
     },
     "execution_count": 8,
     "metadata": {},
     "output_type": "execute_result"
    }
   ],
   "source": [
    "# perkalian\n",
    "4 * 5"
   ]
  },
  {
   "cell_type": "code",
   "execution_count": 9,
   "id": "71efa71f",
   "metadata": {},
   "outputs": [
    {
     "data": {
      "text/plain": [
       "8"
      ]
     },
     "execution_count": 9,
     "metadata": {},
     "output_type": "execute_result"
    }
   ],
   "source": [
    "# pangkat\n",
    "2 ** 3"
   ]
  },
  {
   "cell_type": "code",
   "execution_count": 10,
   "id": "e846b211",
   "metadata": {},
   "outputs": [
    {
     "data": {
      "text/plain": [
       "1"
      ]
     },
     "execution_count": 10,
     "metadata": {},
     "output_type": "execute_result"
    }
   ],
   "source": [
    "# modulo = sisa\n",
    "7 % 2"
   ]
  },
  {
   "cell_type": "code",
   "execution_count": 11,
   "id": "e2b29ffa",
   "metadata": {},
   "outputs": [
    {
     "data": {
      "text/plain": [
       "20"
      ]
     },
     "execution_count": 11,
     "metadata": {},
     "output_type": "execute_result"
    }
   ],
   "source": [
    "# gabugan\n",
    "7 + 5 * 3 - 2 "
   ]
  },
  {
   "cell_type": "code",
   "execution_count": 12,
   "id": "1a8ea25c",
   "metadata": {},
   "outputs": [
    {
     "data": {
      "text/plain": [
       "6.0"
      ]
     },
     "execution_count": 12,
     "metadata": {},
     "output_type": "execute_result"
    }
   ],
   "source": [
    "# pembagian dan perkalian\n",
    "4 * 3 / 2"
   ]
  },
  {
   "cell_type": "markdown",
   "id": "c196d027",
   "metadata": {},
   "source": [
    "# Tipe Data"
   ]
  },
  {
   "cell_type": "code",
   "execution_count": 13,
   "id": "e6366a78",
   "metadata": {},
   "outputs": [
    {
     "data": {
      "text/plain": [
       "'Saya belajar hari minggu'"
      ]
     },
     "execution_count": 13,
     "metadata": {},
     "output_type": "execute_result"
    }
   ],
   "source": [
    "# String \n",
    "\"Saya belajar hari minggu\""
   ]
  },
  {
   "cell_type": "code",
   "execution_count": 14,
   "id": "f008c9cb",
   "metadata": {},
   "outputs": [
    {
     "data": {
      "text/plain": [
       "'Saya belajar hari minggu'"
      ]
     },
     "execution_count": 14,
     "metadata": {},
     "output_type": "execute_result"
    }
   ],
   "source": [
    "# String 2\n",
    "'Saya belajar hari minggu'"
   ]
  },
  {
   "cell_type": "code",
   "execution_count": 19,
   "id": "fd2acf6a",
   "metadata": {},
   "outputs": [],
   "source": [
    "a = 1\n",
    "b = 2\n",
    "c = 3"
   ]
  },
  {
   "cell_type": "code",
   "execution_count": 20,
   "id": "99b28017",
   "metadata": {},
   "outputs": [],
   "source": [
    "a = 2\n",
    "b = 1\n",
    "c = 4"
   ]
  },
  {
   "cell_type": "code",
   "execution_count": 21,
   "id": "9cef6912",
   "metadata": {},
   "outputs": [
    {
     "data": {
      "text/plain": [
       "2"
      ]
     },
     "execution_count": 21,
     "metadata": {},
     "output_type": "execute_result"
    }
   ],
   "source": [
    "a"
   ]
  },
  {
   "cell_type": "markdown",
   "id": "7484bf3e",
   "metadata": {},
   "source": [
    "## List"
   ]
  },
  {
   "cell_type": "code",
   "execution_count": 22,
   "id": "0f62bdb2",
   "metadata": {},
   "outputs": [
    {
     "data": {
      "text/plain": [
       "['a', 'b', 'c', 'd', 3, 6, 7, 8]"
      ]
     },
     "execution_count": 22,
     "metadata": {},
     "output_type": "execute_result"
    }
   ],
   "source": [
    "['a', 'b', 'c', 'd', 3, 6, 7, 8]"
   ]
  },
  {
   "cell_type": "code",
   "execution_count": 23,
   "id": "08fed8fb",
   "metadata": {},
   "outputs": [],
   "source": [
    "list1 = ['a', 'b', 'c', 'd', 3, 6, 7, 8]"
   ]
  },
  {
   "cell_type": "code",
   "execution_count": 24,
   "id": "adc00e0e",
   "metadata": {},
   "outputs": [
    {
     "data": {
      "text/plain": [
       "['a', 'b', 'c', 'd', 3, 6, 7, 8]"
      ]
     },
     "execution_count": 24,
     "metadata": {},
     "output_type": "execute_result"
    }
   ],
   "source": [
    "list1"
   ]
  },
  {
   "cell_type": "code",
   "execution_count": 25,
   "id": "04faa369",
   "metadata": {},
   "outputs": [
    {
     "data": {
      "text/plain": [
       "'c'"
      ]
     },
     "execution_count": 25,
     "metadata": {},
     "output_type": "execute_result"
    }
   ],
   "source": [
    "list1[2] #manggil dari kanan mulai dari nol"
   ]
  },
  {
   "cell_type": "code",
   "execution_count": 26,
   "id": "57c2eb31",
   "metadata": {},
   "outputs": [
    {
     "data": {
      "text/plain": [
       "['b', 'c', 'd']"
      ]
     },
     "execution_count": 26,
     "metadata": {},
     "output_type": "execute_result"
    }
   ],
   "source": [
    "list1[1:4] #yg dibelakang ditambah 1"
   ]
  },
  {
   "cell_type": "code",
   "execution_count": 27,
   "id": "ff6e389f",
   "metadata": {},
   "outputs": [
    {
     "data": {
      "text/plain": [
       "['b', 'c', 'd', 'a', 'b']"
      ]
     },
     "execution_count": 27,
     "metadata": {},
     "output_type": "execute_result"
    }
   ],
   "source": [
    "list1[1:4] + list1 [0:2] #tambahin isi list1 yg diinginkan"
   ]
  },
  {
   "cell_type": "code",
   "execution_count": 29,
   "id": "38783aa4",
   "metadata": {},
   "outputs": [
    {
     "data": {
      "text/plain": [
       "['b', 'c', 'd', 7]"
      ]
     },
     "execution_count": 29,
     "metadata": {},
     "output_type": "execute_result"
    }
   ],
   "source": [
    "list1[1:4] + list1[6:7]"
   ]
  },
  {
   "cell_type": "code",
   "execution_count": 32,
   "id": "cf5bdaa0",
   "metadata": {},
   "outputs": [],
   "source": [
    "list1.append('1') #tambah atau menyisipkan elemen"
   ]
  },
  {
   "cell_type": "code",
   "execution_count": 33,
   "id": "f4f9583d",
   "metadata": {},
   "outputs": [
    {
     "data": {
      "text/plain": [
       "['a', 'b', 'c', 'd', 3, 6, 7, 8, 'a', '1']"
      ]
     },
     "execution_count": 33,
     "metadata": {},
     "output_type": "execute_result"
    }
   ],
   "source": [
    "list1"
   ]
  },
  {
   "cell_type": "code",
   "execution_count": 36,
   "id": "65e1dce2",
   "metadata": {},
   "outputs": [],
   "source": [
    "del list1[-1] #menghapus satu argumen"
   ]
  },
  {
   "cell_type": "code",
   "execution_count": 37,
   "id": "ea81c390",
   "metadata": {},
   "outputs": [
    {
     "data": {
      "text/plain": [
       "['a', 'b', 'c', 'd', 3, 6, 7, 8]"
      ]
     },
     "execution_count": 37,
     "metadata": {},
     "output_type": "execute_result"
    }
   ],
   "source": [
    "list1"
   ]
  },
  {
   "cell_type": "code",
   "execution_count": 38,
   "id": "81cc50e7",
   "metadata": {},
   "outputs": [],
   "source": [
    "list2 = [1,2,3,4,'a', 'b', [5,6,7], ['c', 'd', 'e'], [[1,2,3], ['bc', 'de', 'ef']]] "
   ]
  },
  {
   "cell_type": "code",
   "execution_count": 39,
   "id": "b103c124",
   "metadata": {},
   "outputs": [
    {
     "data": {
      "text/plain": [
       "[1,\n",
       " 2,\n",
       " 3,\n",
       " 4,\n",
       " 'a',\n",
       " 'b',\n",
       " [5, 6, 7],\n",
       " ['c', 'd', 'e'],\n",
       " [[1, 2, 3], ['bc', 'de', 'ef']]]"
      ]
     },
     "execution_count": 39,
     "metadata": {},
     "output_type": "execute_result"
    }
   ],
   "source": [
    "list2"
   ]
  },
  {
   "cell_type": "code",
   "execution_count": 40,
   "id": "eea06fd4",
   "metadata": {},
   "outputs": [
    {
     "data": {
      "text/plain": [
       "['c', 'd', 'e']"
      ]
     },
     "execution_count": 40,
     "metadata": {},
     "output_type": "execute_result"
    }
   ],
   "source": [
    "list2[7] #mengeluarkan/memanggil"
   ]
  },
  {
   "cell_type": "code",
   "execution_count": 41,
   "id": "a6f89955",
   "metadata": {},
   "outputs": [
    {
     "data": {
      "text/plain": [
       "'d'"
      ]
     },
     "execution_count": 41,
     "metadata": {},
     "output_type": "execute_result"
    }
   ],
   "source": [
    "list2[7][1] #memanggil dibagian tsb"
   ]
  },
  {
   "cell_type": "code",
   "execution_count": 42,
   "id": "9985a570",
   "metadata": {},
   "outputs": [
    {
     "data": {
      "text/plain": [
       "2"
      ]
     },
     "execution_count": 42,
     "metadata": {},
     "output_type": "execute_result"
    }
   ],
   "source": [
    "list2[-1][0][1]"
   ]
  },
  {
   "cell_type": "code",
   "execution_count": 43,
   "id": "7125c1dc",
   "metadata": {},
   "outputs": [],
   "source": [
    "d=300"
   ]
  },
  {
   "cell_type": "code",
   "execution_count": 44,
   "id": "a68ce308",
   "metadata": {},
   "outputs": [],
   "source": [
    "list2.insert(1,d) #menambahkan dibagian yg diinginkan"
   ]
  },
  {
   "cell_type": "code",
   "execution_count": 45,
   "id": "9b81b322",
   "metadata": {},
   "outputs": [
    {
     "data": {
      "text/plain": [
       "[1,\n",
       " 300,\n",
       " 2,\n",
       " 3,\n",
       " 4,\n",
       " 'a',\n",
       " 'b',\n",
       " [5, 6, 7],\n",
       " ['c', 'd', 'e'],\n",
       " [[1, 2, 3], ['bc', 'de', 'ef']]]"
      ]
     },
     "execution_count": 45,
     "metadata": {},
     "output_type": "execute_result"
    }
   ],
   "source": [
    "list2"
   ]
  },
  {
   "cell_type": "markdown",
   "id": "735d0989",
   "metadata": {},
   "source": [
    "# Tuple"
   ]
  },
  {
   "cell_type": "code",
   "execution_count": 46,
   "id": "50fea9e2",
   "metadata": {},
   "outputs": [
    {
     "data": {
      "text/plain": [
       "(1, 2, 3, 4)"
      ]
     },
     "execution_count": 46,
     "metadata": {},
     "output_type": "execute_result"
    }
   ],
   "source": [
    "(1,2,3,4)"
   ]
  },
  {
   "cell_type": "code",
   "execution_count": 47,
   "id": "d93aea21",
   "metadata": {},
   "outputs": [
    {
     "data": {
      "text/plain": [
       "(1, 2, 3, 4, 'a', 'b', 'c')"
      ]
     },
     "execution_count": 47,
     "metadata": {},
     "output_type": "execute_result"
    }
   ],
   "source": [
    "(1,2,3,4,'a', 'b', 'c')"
   ]
  },
  {
   "cell_type": "code",
   "execution_count": 50,
   "id": "745decd0",
   "metadata": {},
   "outputs": [
    {
     "data": {
      "text/plain": [
       "(1, 2, 3, 4, 1, 2, 3, 4)"
      ]
     },
     "execution_count": 50,
     "metadata": {},
     "output_type": "execute_result"
    }
   ],
   "source": [
    "(1,2,3,4) + (1,2,3,4)"
   ]
  },
  {
   "cell_type": "code",
   "execution_count": 51,
   "id": "f4633dc9",
   "metadata": {},
   "outputs": [],
   "source": [
    "tuple1= (1,2,3,4)"
   ]
  },
  {
   "cell_type": "code",
   "execution_count": 52,
   "id": "69eef77a",
   "metadata": {},
   "outputs": [
    {
     "data": {
      "text/plain": [
       "(1, 2, 3, 4)"
      ]
     },
     "execution_count": 52,
     "metadata": {},
     "output_type": "execute_result"
    }
   ],
   "source": [
    "tuple1"
   ]
  },
  {
   "cell_type": "code",
   "execution_count": 53,
   "id": "c28d69f7",
   "metadata": {},
   "outputs": [
    {
     "data": {
      "text/plain": [
       "[1, 2, 3, 4]"
      ]
     },
     "execution_count": 53,
     "metadata": {},
     "output_type": "execute_result"
    }
   ],
   "source": [
    "list(tuple1) #mengubah tuple ke list"
   ]
  },
  {
   "cell_type": "code",
   "execution_count": 54,
   "id": "726719a8",
   "metadata": {},
   "outputs": [
    {
     "data": {
      "text/plain": [
       "('a', 'b', 'c', 'd', 3, 6, 7, 8)"
      ]
     },
     "execution_count": 54,
     "metadata": {},
     "output_type": "execute_result"
    }
   ],
   "source": [
    "tuple(list1)"
   ]
  },
  {
   "cell_type": "markdown",
   "id": "621781fc",
   "metadata": {},
   "source": [
    "## Sets (Himpunan)"
   ]
  },
  {
   "cell_type": "code",
   "execution_count": 55,
   "id": "caedcd30",
   "metadata": {},
   "outputs": [
    {
     "data": {
      "text/plain": [
       "{1, 2, 3, 4, 5, 'a', 'b', 'c'}"
      ]
     },
     "execution_count": 55,
     "metadata": {},
     "output_type": "execute_result"
    }
   ],
   "source": [
    "{1,2,3,4,5, 'a', 'b', 'c'}"
   ]
  },
  {
   "cell_type": "code",
   "execution_count": 57,
   "id": "7bf0e1b3",
   "metadata": {},
   "outputs": [],
   "source": [
    "set1 = {1,2,3,4,5}\n",
    "set2 = {4,5,6,7,8}"
   ]
  },
  {
   "cell_type": "code",
   "execution_count": 58,
   "id": "7f5d9969",
   "metadata": {},
   "outputs": [
    {
     "data": {
      "text/plain": [
       "{1, 2, 3, 4, 5, 6, 7, 8}"
      ]
     },
     "execution_count": 58,
     "metadata": {},
     "output_type": "execute_result"
    }
   ],
   "source": [
    "set1.union(set2) #ga duplikat kalo ada data yg sama"
   ]
  },
  {
   "cell_type": "code",
   "execution_count": 59,
   "id": "c82ba74c",
   "metadata": {},
   "outputs": [
    {
     "data": {
      "text/plain": [
       "{4, 5}"
      ]
     },
     "execution_count": 59,
     "metadata": {},
     "output_type": "execute_result"
    }
   ],
   "source": [
    "set1.intersection(set2) #kalo mau liat data yg sama"
   ]
  },
  {
   "cell_type": "code",
   "execution_count": 60,
   "id": "5c9b70cb",
   "metadata": {},
   "outputs": [
    {
     "data": {
      "text/plain": [
       "{1, 2, 3}"
      ]
     },
     "execution_count": 60,
     "metadata": {},
     "output_type": "execute_result"
    }
   ],
   "source": [
    "set1 - set2 #pengurangan himpunan"
   ]
  },
  {
   "cell_type": "code",
   "execution_count": 61,
   "id": "53dabc12",
   "metadata": {},
   "outputs": [
    {
     "data": {
      "text/plain": [
       "{6, 7, 8}"
      ]
     },
     "execution_count": 61,
     "metadata": {},
     "output_type": "execute_result"
    }
   ],
   "source": [
    "set2 - set1"
   ]
  },
  {
   "cell_type": "code",
   "execution_count": 62,
   "id": "726854f6",
   "metadata": {},
   "outputs": [],
   "source": [
    "#gabisa manggil langsung angkanya, harus diubah ke list dulu"
   ]
  },
  {
   "cell_type": "code",
   "execution_count": 63,
   "id": "0bde64a5",
   "metadata": {},
   "outputs": [
    {
     "data": {
      "text/plain": [
       "[1, 2, 3, 4, 5]"
      ]
     },
     "execution_count": 63,
     "metadata": {},
     "output_type": "execute_result"
    }
   ],
   "source": [
    "list(set1)"
   ]
  },
  {
   "cell_type": "code",
   "execution_count": 64,
   "id": "b82bc59b",
   "metadata": {},
   "outputs": [
    {
     "data": {
      "text/plain": [
       "4"
      ]
     },
     "execution_count": 64,
     "metadata": {},
     "output_type": "execute_result"
    }
   ],
   "source": [
    "list(set1)[3]"
   ]
  },
  {
   "cell_type": "code",
   "execution_count": 65,
   "id": "ded53030",
   "metadata": {},
   "outputs": [
    {
     "data": {
      "text/plain": [
       "{3, 6, 7, 8, 'a', 'b', 'c', 'd'}"
      ]
     },
     "execution_count": 65,
     "metadata": {},
     "output_type": "execute_result"
    }
   ],
   "source": [
    "set(list1)"
   ]
  },
  {
   "cell_type": "markdown",
   "id": "e51911b9",
   "metadata": {},
   "source": [
    "## Dictionary"
   ]
  },
  {
   "cell_type": "code",
   "execution_count": 67,
   "id": "10b70287",
   "metadata": {},
   "outputs": [
    {
     "data": {
      "text/plain": [
       "{'nama': ['Aditya', 'Toni', 'Tono', 'Ani']}"
      ]
     },
     "execution_count": 67,
     "metadata": {},
     "output_type": "execute_result"
    }
   ],
   "source": [
    "{'nama':['Aditya', 'Toni', 'Tono', 'Ani']}"
   ]
  },
  {
   "cell_type": "code",
   "execution_count": 69,
   "id": "8b479805",
   "metadata": {},
   "outputs": [
    {
     "data": {
      "text/plain": [
       "{'nama': ['Aditya', 'Toni', 'Tono', 'Ani'],\n",
       " 'tinggi badan': [150, 155, 160, 167]}"
      ]
     },
     "execution_count": 69,
     "metadata": {},
     "output_type": "execute_result"
    }
   ],
   "source": [
    "{'nama':['Aditya', 'Toni', 'Tono', 'Ani'], 'tinggi badan': [150, 155, 160,167]}"
   ]
  },
  {
   "cell_type": "code",
   "execution_count": 133,
   "id": "7c4b4734",
   "metadata": {},
   "outputs": [],
   "source": [
    "dicti1 = {'nama':['Aditya', 'Toni', 'Tono', 'Ani'], 'tinggi badan': [150, 155, 160,167]}"
   ]
  },
  {
   "cell_type": "code",
   "execution_count": 77,
   "id": "f2499b59",
   "metadata": {},
   "outputs": [
    {
     "data": {
      "text/plain": [
       "{'nama': ['Aditya', 'Toni', 'Tono', 'Ani'],\n",
       " 'tinggi badan': [150, 155, 160, 167]}"
      ]
     },
     "execution_count": 77,
     "metadata": {},
     "output_type": "execute_result"
    }
   ],
   "source": [
    "dicti1"
   ]
  },
  {
   "cell_type": "code",
   "execution_count": 79,
   "id": "84741138",
   "metadata": {},
   "outputs": [
    {
     "data": {
      "text/plain": [
       "['Aditya', 'Toni', 'Tono', 'Ani']"
      ]
     },
     "execution_count": 79,
     "metadata": {},
     "output_type": "execute_result"
    }
   ],
   "source": [
    "#ingin manggil\n",
    "dicti1['nama']"
   ]
  },
  {
   "cell_type": "code",
   "execution_count": 80,
   "id": "10213526",
   "metadata": {},
   "outputs": [],
   "source": [
    "#nambah key\n",
    "dicti1['berat badan'] = [50, 55, 60, 65]"
   ]
  },
  {
   "cell_type": "code",
   "execution_count": 84,
   "id": "8857bed6",
   "metadata": {},
   "outputs": [
    {
     "data": {
      "text/plain": [
       "{'nama': ['Aditya', 'Toni', 'Tono', 'Ani'],\n",
       " 'tinggi badan': [150, 155, 160, 167],\n",
       " 'berat badan': [50, 55, 60, 65]}"
      ]
     },
     "execution_count": 84,
     "metadata": {},
     "output_type": "execute_result"
    }
   ],
   "source": [
    "dicti1"
   ]
  },
  {
   "cell_type": "code",
   "execution_count": 88,
   "id": "9158fc01",
   "metadata": {},
   "outputs": [],
   "source": [
    "#menghapus\n",
    "dicti1.pop('tinggi badan')"
   ]
  },
  {
   "cell_type": "code",
   "execution_count": 89,
   "id": "4b43e075",
   "metadata": {},
   "outputs": [
    {
     "data": {
      "text/plain": [
       "{'nama': ['Aditya', 'Toni', 'Tono', 'Ani'], 'berat badan': [50, 55, 60, 65]}"
      ]
     },
     "execution_count": 89,
     "metadata": {},
     "output_type": "execute_result"
    }
   ],
   "source": [
    "dicti1"
   ]
  },
  {
   "cell_type": "code",
   "execution_count": 90,
   "id": "79172970",
   "metadata": {},
   "outputs": [],
   "source": [
    "dicti2 =  {'nama':['Aditya', 'Toni', 'Tono', 'Ani'], 'tinggi badan': [150, 155, 160,]}"
   ]
  },
  {
   "cell_type": "code",
   "execution_count": 91,
   "id": "a8910ed2",
   "metadata": {},
   "outputs": [
    {
     "data": {
      "text/plain": [
       "{'nama': ['Aditya', 'Toni', 'Tono', 'Ani'], 'tinggi badan': [150, 155, 160]}"
      ]
     },
     "execution_count": 91,
     "metadata": {},
     "output_type": "execute_result"
    }
   ],
   "source": [
    "dicti2"
   ]
  },
  {
   "cell_type": "code",
   "execution_count": 94,
   "id": "eae21a96",
   "metadata": {},
   "outputs": [],
   "source": [
    "dicti2['nama'] = ['Toni', 'Tono', 'Ani', 'Ana']"
   ]
  },
  {
   "cell_type": "code",
   "execution_count": 95,
   "id": "31abe84a",
   "metadata": {},
   "outputs": [
    {
     "data": {
      "text/plain": [
       "{'nama': ['Toni', 'Tono', 'Ani', 'Ana'], 'tinggi badan': [150, 155, 160]}"
      ]
     },
     "execution_count": 95,
     "metadata": {},
     "output_type": "execute_result"
    }
   ],
   "source": [
    "dicti2"
   ]
  },
  {
   "cell_type": "code",
   "execution_count": 96,
   "id": "566481ca",
   "metadata": {},
   "outputs": [],
   "source": [
    "dicti2['nama'][1] = 'Aditya'"
   ]
  },
  {
   "cell_type": "code",
   "execution_count": 97,
   "id": "6a5fe821",
   "metadata": {},
   "outputs": [
    {
     "data": {
      "text/plain": [
       "{'nama': ['Toni', 'Aditya', 'Ani', 'Ana'], 'tinggi badan': [150, 155, 160]}"
      ]
     },
     "execution_count": 97,
     "metadata": {},
     "output_type": "execute_result"
    }
   ],
   "source": [
    "dicti2"
   ]
  },
  {
   "cell_type": "markdown",
   "id": "07b5d561",
   "metadata": {},
   "source": [
    "# Conditional Statement (If - Else)"
   ]
  },
  {
   "cell_type": "code",
   "execution_count": 98,
   "id": "adc67e88",
   "metadata": {},
   "outputs": [
    {
     "name": "stdout",
     "output_type": "stream",
     "text": [
      "Nilai > 80\n"
     ]
    }
   ],
   "source": [
    "nilai = 81\n",
    "\n",
    "if nilai > 80:\n",
    "    print('Nilai > 80')\n",
    "else:\n",
    "    print('Nilai < 80')"
   ]
  },
  {
   "cell_type": "code",
   "execution_count": 99,
   "id": "fd625957",
   "metadata": {},
   "outputs": [
    {
     "name": "stdout",
     "output_type": "stream",
     "text": [
      "Nilai > 80\n"
     ]
    }
   ],
   "source": [
    "nilai = 81\n",
    "if nilai > 80:\n",
    "    print('Nilai > 80')\n",
    "else:\n",
    "    print('Nilai < 80')"
   ]
  },
  {
   "cell_type": "code",
   "execution_count": 100,
   "id": "6b4cb067",
   "metadata": {},
   "outputs": [
    {
     "ename": "SyntaxError",
     "evalue": "invalid syntax (1281614601.py, line 1)",
     "output_type": "error",
     "traceback": [
      "\u001b[1;36m  File \u001b[1;32m\"C:\\Users\\user\\AppData\\Local\\Temp\\ipykernel_8024\\1281614601.py\"\u001b[1;36m, line \u001b[1;32m1\u001b[0m\n\u001b[1;33m    nilai 80\u001b[0m\n\u001b[1;37m          ^\u001b[0m\n\u001b[1;31mSyntaxError\u001b[0m\u001b[1;31m:\u001b[0m invalid syntax\n"
     ]
    }
   ],
   "source": [
    "nilai 80\n",
    "\n",
    "if nilai > 80:\n",
    "    print('A (Nilai > 80)')\n",
    "elif nilai > 70:\n",
    "    print('B (nilai 71 - 80)')\n",
    "else:\n",
    "    print('C (nilai <= 70)')"
   ]
  },
  {
   "cell_type": "code",
   "execution_count": 101,
   "id": "2a4faf69",
   "metadata": {},
   "outputs": [],
   "source": [
    "nilai = 84\n"
   ]
  },
  {
   "cell_type": "markdown",
   "id": "4f6bac40",
   "metadata": {},
   "source": [
    "# Looping"
   ]
  },
  {
   "cell_type": "code",
   "execution_count": 102,
   "id": "cc689113",
   "metadata": {},
   "outputs": [
    {
     "name": "stdout",
     "output_type": "stream",
     "text": [
      "1\n",
      "2\n",
      "3\n",
      "4\n"
     ]
    }
   ],
   "source": [
    "#for loop\n",
    "#range(1,5) -> [1,2,3,4]\n",
    "\n",
    "for i in range (1,5):\n",
    "    print(i)"
   ]
  },
  {
   "cell_type": "code",
   "execution_count": 103,
   "id": "ad9e84ad",
   "metadata": {},
   "outputs": [
    {
     "name": "stdout",
     "output_type": "stream",
     "text": [
      "Aditya\n",
      "Tono\n",
      "Tini\n",
      "Ani\n"
     ]
    }
   ],
   "source": [
    "list1 = ['Aditya', 'Tono', 'Tini', 'Ani']\n",
    "\n",
    "for nama in list1:\n",
    "    print(nama)"
   ]
  },
  {
   "cell_type": "code",
   "execution_count": 104,
   "id": "f28ac010",
   "metadata": {},
   "outputs": [
    {
     "name": "stdout",
     "output_type": "stream",
     "text": [
      "0\n",
      "1\n",
      "2\n",
      "3\n",
      "4\n"
     ]
    }
   ],
   "source": [
    "# while \n",
    "# i nya harus di update, kalau ga jalan terus\n",
    "\n",
    "i = 0\n",
    "while i < 5:\n",
    "    print(i)\n",
    "    i = i+1"
   ]
  },
  {
   "cell_type": "code",
   "execution_count": 105,
   "id": "68196aee",
   "metadata": {},
   "outputs": [
    {
     "name": "stdout",
     "output_type": "stream",
     "text": [
      "1 ganjil\n",
      "2 genap\n",
      "3 ganjil\n",
      "4 genap\n",
      "5 ganjil\n",
      "6 genap\n",
      "7 ganjil\n",
      "8 genap\n",
      "9 ganjil\n",
      "10 genap\n",
      "11 ganjil\n",
      "12 genap\n",
      "13 ganjil\n",
      "14 genap\n",
      "15 ganjil\n",
      "16 genap\n",
      "17 ganjil\n",
      "18 genap\n",
      "19 ganjil\n"
     ]
    }
   ],
   "source": [
    "for i in range(1,20):\n",
    "    if i % 2 == 0:\n",
    "        print(i,'genap')\n",
    "    else:\n",
    "        print(i,'ganjil')"
   ]
  },
  {
   "cell_type": "markdown",
   "id": "c4195387",
   "metadata": {},
   "source": [
    " # Function"
   ]
  },
  {
   "cell_type": "markdown",
   "id": "2b552748",
   "metadata": {},
   "source": [
    "#def func_name(a,b):\n",
    "\n",
    "def penjumlahan(a + b):\n",
    "    print(a + b)"
   ]
  },
  {
   "cell_type": "code",
   "execution_count": 110,
   "id": "acfa899e",
   "metadata": {},
   "outputs": [],
   "source": [
    "def penjumlahan(a,b):\n",
    "    hsl = a + b\n",
    "    return hsl\n",
    "hasil = penjumlahan(3,4)"
   ]
  },
  {
   "cell_type": "code",
   "execution_count": 111,
   "id": "f960b89f",
   "metadata": {},
   "outputs": [
    {
     "data": {
      "text/plain": [
       "7"
      ]
     },
     "execution_count": 111,
     "metadata": {},
     "output_type": "execute_result"
    }
   ],
   "source": [
    "hasil"
   ]
  },
  {
   "cell_type": "markdown",
   "id": "c5761553",
   "metadata": {},
   "source": [
    "# Package vs Module"
   ]
  },
  {
   "cell_type": "code",
   "execution_count": 147,
   "id": "769004f4",
   "metadata": {},
   "outputs": [],
   "source": [
    "import math as m"
   ]
  },
  {
   "cell_type": "markdown",
   "id": "25bef0e0",
   "metadata": {},
   "source": [
    "# Array"
   ]
  },
  {
   "cell_type": "code",
   "execution_count": 115,
   "id": "5f3559b0",
   "metadata": {},
   "outputs": [],
   "source": [
    "import numpy as np"
   ]
  },
  {
   "cell_type": "code",
   "execution_count": 116,
   "id": "a9d0ca1e",
   "metadata": {},
   "outputs": [
    {
     "data": {
      "text/plain": [
       "array([1, 2, 3, 4, 5])"
      ]
     },
     "execution_count": 116,
     "metadata": {},
     "output_type": "execute_result"
    }
   ],
   "source": [
    "np.array([1,2,3,4,5])"
   ]
  },
  {
   "cell_type": "code",
   "execution_count": 118,
   "id": "9594cf02",
   "metadata": {},
   "outputs": [
    {
     "data": {
      "text/plain": [
       "array([1, 2, 3, 4, 5])"
      ]
     },
     "execution_count": 118,
     "metadata": {},
     "output_type": "execute_result"
    }
   ],
   "source": [
    "array1 = np.array([1,2,3,4,5])\n",
    "array1"
   ]
  },
  {
   "cell_type": "code",
   "execution_count": 119,
   "id": "5a215ff0",
   "metadata": {},
   "outputs": [
    {
     "data": {
      "text/plain": [
       "array([4, 5, 6, 7, 8])"
      ]
     },
     "execution_count": 119,
     "metadata": {},
     "output_type": "execute_result"
    }
   ],
   "source": [
    "array1 + 3"
   ]
  },
  {
   "cell_type": "code",
   "execution_count": 120,
   "id": "37bc3f38",
   "metadata": {},
   "outputs": [
    {
     "data": {
      "text/plain": [
       "array([ 3,  6,  9, 12, 15])"
      ]
     },
     "execution_count": 120,
     "metadata": {},
     "output_type": "execute_result"
    }
   ],
   "source": [
    "array1 * 3"
   ]
  },
  {
   "cell_type": "code",
   "execution_count": 122,
   "id": "f0cd5123",
   "metadata": {},
   "outputs": [
    {
     "data": {
      "text/plain": [
       "array([[1, 2, 3],\n",
       "       [2, 3, 4]])"
      ]
     },
     "execution_count": 122,
     "metadata": {},
     "output_type": "execute_result"
    }
   ],
   "source": [
    "mat1 = np.array([[1,2,3],[2,3,4]])\n",
    "mat1"
   ]
  },
  {
   "cell_type": "code",
   "execution_count": 123,
   "id": "c1c8268d",
   "metadata": {},
   "outputs": [
    {
     "data": {
      "text/plain": [
       "array([[1, 2],\n",
       "       [2, 3],\n",
       "       [3, 4]])"
      ]
     },
     "execution_count": 123,
     "metadata": {},
     "output_type": "execute_result"
    }
   ],
   "source": [
    "mat1.T"
   ]
  },
  {
   "cell_type": "code",
   "execution_count": 124,
   "id": "6a001565",
   "metadata": {},
   "outputs": [
    {
     "data": {
      "text/plain": [
       "array([[14, 20],\n",
       "       [20, 29]])"
      ]
     },
     "execution_count": 124,
     "metadata": {},
     "output_type": "execute_result"
    }
   ],
   "source": [
    "mat1 @ mat1.T"
   ]
  },
  {
   "cell_type": "code",
   "execution_count": 126,
   "id": "0cc52edd",
   "metadata": {},
   "outputs": [
    {
     "data": {
      "text/plain": [
       "array([[1, 2],\n",
       "       [2, 1]])"
      ]
     },
     "execution_count": 126,
     "metadata": {},
     "output_type": "execute_result"
    }
   ],
   "source": [
    "mat2 = np.array([[1,2,],[2,1]])\n",
    "mat2"
   ]
  },
  {
   "cell_type": "code",
   "execution_count": 128,
   "id": "cd6d3d6b",
   "metadata": {},
   "outputs": [
    {
     "data": {
      "text/plain": [
       "array([[3, 4],\n",
       "       [4, 3]])"
      ]
     },
     "execution_count": 128,
     "metadata": {},
     "output_type": "execute_result"
    }
   ],
   "source": [
    "mat3 = np.array([[3,4,],[4,3]])\n",
    "mat3"
   ]
  },
  {
   "cell_type": "code",
   "execution_count": 129,
   "id": "fa6bfd77",
   "metadata": {},
   "outputs": [
    {
     "data": {
      "text/plain": [
       "array([[3, 8],\n",
       "       [8, 3]])"
      ]
     },
     "execution_count": 129,
     "metadata": {},
     "output_type": "execute_result"
    }
   ],
   "source": [
    "mat2 * mat3"
   ]
  },
  {
   "cell_type": "code",
   "execution_count": 130,
   "id": "7bfa597f",
   "metadata": {},
   "outputs": [
    {
     "data": {
      "text/plain": [
       "array([[11, 10],\n",
       "       [10, 11]])"
      ]
     },
     "execution_count": 130,
     "metadata": {},
     "output_type": "execute_result"
    }
   ],
   "source": [
    "mat2 @ mat3"
   ]
  },
  {
   "cell_type": "code",
   "execution_count": 131,
   "id": "404880c2",
   "metadata": {},
   "outputs": [
    {
     "data": {
      "text/plain": [
       "array([[-0.33333333,  0.66666667],\n",
       "       [ 0.66666667, -0.33333333]])"
      ]
     },
     "execution_count": 131,
     "metadata": {},
     "output_type": "execute_result"
    }
   ],
   "source": [
    "np.linalg.inv(mat2)"
   ]
  },
  {
   "cell_type": "markdown",
   "id": "ca4d8ce0",
   "metadata": {},
   "source": [
    "# DataFrame"
   ]
  },
  {
   "cell_type": "code",
   "execution_count": 132,
   "id": "238619da",
   "metadata": {},
   "outputs": [],
   "source": [
    "import pandas as pd"
   ]
  },
  {
   "cell_type": "code",
   "execution_count": 135,
   "id": "d3424136",
   "metadata": {},
   "outputs": [
    {
     "data": {
      "text/plain": [
       "{'nama': ['Aditya', 'Toni', 'Tono', 'Ani'],\n",
       " 'tinggi badan': [150, 155, 160, 167]}"
      ]
     },
     "execution_count": 135,
     "metadata": {},
     "output_type": "execute_result"
    }
   ],
   "source": [
    "dicti1 = {'nama':['Aditya', 'Toni', 'Tono', 'Ani'], 'tinggi badan': [150, 155, 160,167]}\n",
    "dicti1"
   ]
  },
  {
   "cell_type": "code",
   "execution_count": 136,
   "id": "65e649a1",
   "metadata": {},
   "outputs": [
    {
     "data": {
      "text/html": [
       "<div>\n",
       "<style scoped>\n",
       "    .dataframe tbody tr th:only-of-type {\n",
       "        vertical-align: middle;\n",
       "    }\n",
       "\n",
       "    .dataframe tbody tr th {\n",
       "        vertical-align: top;\n",
       "    }\n",
       "\n",
       "    .dataframe thead th {\n",
       "        text-align: right;\n",
       "    }\n",
       "</style>\n",
       "<table border=\"1\" class=\"dataframe\">\n",
       "  <thead>\n",
       "    <tr style=\"text-align: right;\">\n",
       "      <th></th>\n",
       "      <th>nama</th>\n",
       "      <th>tinggi badan</th>\n",
       "    </tr>\n",
       "  </thead>\n",
       "  <tbody>\n",
       "    <tr>\n",
       "      <th>0</th>\n",
       "      <td>Aditya</td>\n",
       "      <td>150</td>\n",
       "    </tr>\n",
       "    <tr>\n",
       "      <th>1</th>\n",
       "      <td>Toni</td>\n",
       "      <td>155</td>\n",
       "    </tr>\n",
       "    <tr>\n",
       "      <th>2</th>\n",
       "      <td>Tono</td>\n",
       "      <td>160</td>\n",
       "    </tr>\n",
       "    <tr>\n",
       "      <th>3</th>\n",
       "      <td>Ani</td>\n",
       "      <td>167</td>\n",
       "    </tr>\n",
       "  </tbody>\n",
       "</table>\n",
       "</div>"
      ],
      "text/plain": [
       "     nama  tinggi badan\n",
       "0  Aditya           150\n",
       "1    Toni           155\n",
       "2    Tono           160\n",
       "3     Ani           167"
      ]
     },
     "execution_count": 136,
     "metadata": {},
     "output_type": "execute_result"
    }
   ],
   "source": [
    "pd.DataFrame(dicti1)"
   ]
  },
  {
   "cell_type": "code",
   "execution_count": 137,
   "id": "9b060f42",
   "metadata": {},
   "outputs": [],
   "source": [
    "df = pd.DataFrame(dicti1)"
   ]
  },
  {
   "cell_type": "code",
   "execution_count": 138,
   "id": "eb82f866",
   "metadata": {},
   "outputs": [
    {
     "data": {
      "text/plain": [
       "0    Aditya\n",
       "1      Toni\n",
       "2      Tono\n",
       "3       Ani\n",
       "Name: nama, dtype: object"
      ]
     },
     "execution_count": 138,
     "metadata": {},
     "output_type": "execute_result"
    }
   ],
   "source": [
    "df['nama']"
   ]
  },
  {
   "cell_type": "code",
   "execution_count": 146,
   "id": "2930961c",
   "metadata": {},
   "outputs": [
    {
     "data": {
      "text/html": [
       "<div>\n",
       "<style scoped>\n",
       "    .dataframe tbody tr th:only-of-type {\n",
       "        vertical-align: middle;\n",
       "    }\n",
       "\n",
       "    .dataframe tbody tr th {\n",
       "        vertical-align: top;\n",
       "    }\n",
       "\n",
       "    .dataframe thead th {\n",
       "        text-align: right;\n",
       "    }\n",
       "</style>\n",
       "<table border=\"1\" class=\"dataframe\">\n",
       "  <thead>\n",
       "    <tr style=\"text-align: right;\">\n",
       "      <th></th>\n",
       "      <th>nama</th>\n",
       "      <th>tinggi badan</th>\n",
       "      <th>berat badan</th>\n",
       "    </tr>\n",
       "  </thead>\n",
       "  <tbody>\n",
       "    <tr>\n",
       "      <th>0</th>\n",
       "      <td>Aditya</td>\n",
       "      <td>150</td>\n",
       "      <td>55</td>\n",
       "    </tr>\n",
       "    <tr>\n",
       "      <th>1</th>\n",
       "      <td>Toni</td>\n",
       "      <td>155</td>\n",
       "      <td>56</td>\n",
       "    </tr>\n",
       "    <tr>\n",
       "      <th>2</th>\n",
       "      <td>Tono</td>\n",
       "      <td>160</td>\n",
       "      <td>57</td>\n",
       "    </tr>\n",
       "    <tr>\n",
       "      <th>3</th>\n",
       "      <td>Ani</td>\n",
       "      <td>167</td>\n",
       "      <td>58</td>\n",
       "    </tr>\n",
       "  </tbody>\n",
       "</table>\n",
       "</div>"
      ],
      "text/plain": [
       "     nama  tinggi badan  berat badan\n",
       "0  Aditya           150           55\n",
       "1    Toni           155           56\n",
       "2    Tono           160           57\n",
       "3     Ani           167           58"
      ]
     },
     "execution_count": 146,
     "metadata": {},
     "output_type": "execute_result"
    }
   ],
   "source": [
    "df['berat badan'] = [55, 56, 57, 58]\n",
    "df"
   ]
  },
  {
   "cell_type": "code",
   "execution_count": null,
   "id": "c3fc5d64",
   "metadata": {},
   "outputs": [],
   "source": []
  }
 ],
 "metadata": {
  "kernelspec": {
   "display_name": "Python 3 (ipykernel)",
   "language": "python",
   "name": "python3"
  },
  "language_info": {
   "codemirror_mode": {
    "name": "ipython",
    "version": 3
   },
   "file_extension": ".py",
   "mimetype": "text/x-python",
   "name": "python",
   "nbconvert_exporter": "python",
   "pygments_lexer": "ipython3",
   "version": "3.9.13"
  }
 },
 "nbformat": 4,
 "nbformat_minor": 5
}
